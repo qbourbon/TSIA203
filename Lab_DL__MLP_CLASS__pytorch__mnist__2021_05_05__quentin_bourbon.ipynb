{
  "cells": [
    {
      "cell_type": "markdown",
      "metadata": {
        "id": "WpYK9fIlyZCq"
      },
      "source": [
        "# Lab Deep Learning / Multi-Layer Perceptron for classification / in pytorch\n",
        "\n",
        "**Author: geoffroy.peeters@telecom-paris.fr**\n",
        "\n",
        "For any remark or suggestion, please feel free to contact me.\n",
        "\n",
        "Last edit: 2020/04/27 peeters\n",
        "\n",
        "Read the \"introduction to pytorch\" slides first: https://perso.telecom-paristech.fr/gpeeters/doc/pytorch/\n",
        "\n",
        "**Is is recommended that you first perform the ```Lab Deep Learning / Multi-Layer Perceptron for regression / in pytorch``` Lab to understand how to write a Neural Network in pytorch.**\n",
        "\n",
        "\n",
        "## Objective:\n",
        "\n",
        "The objective of this lab is to develop a two hidden layers MLP to perform image **classification**.\n",
        "\n",
        "While the previous Lab ```Lab Deep Learning / Multi-Layer Perceptron for regression / in pytorch``` focused on how to write a Neural Network, the present Lab focuses on managing datasets and splitting training and testing .\n",
        "\n",
        "We will use MNIST for the image dataset.\n",
        "\n",
        "## Your task:\n",
        "\n",
        "You need to add the missing parts in the code (parts between ```# --- START CODE HERE``` and ```# --- END CODE HERE```)\n",
        "\n",
        "## Documentation:\n",
        "- NN: https://pytorch.org/docs/stable/nn.html\n",
        "- Autograd: https://pytorch.org/docs/stable/autograd.html\n",
        "- Optim: https://pytorch.org/docs/stable/optim.html\n"
      ]
    },
    {
      "cell_type": "code",
      "execution_count": null,
      "metadata": {
        "id": "h6o3NZfNyZCt"
      },
      "outputs": [],
      "source": [
        "import torch\n",
        "import torch.nn as nn\n",
        "import torch.nn.functional as F\n",
        "import torch.optim as optim\n",
        "from torchvision import datasets, transforms\n",
        "import matplotlib.pyplot as plt"
      ]
    },
    {
      "cell_type": "markdown",
      "metadata": {
        "id": "Vy7u-IVkyZCu"
      },
      "source": [
        "## Data management\n",
        "\n",
        "It is common to separate the datasets into\n",
        "- a **training** part (used to find the network parameters which minimize the loss)\n",
        "- a **test part** (used to estimate the performances).\n",
        "\n",
        "The training part can itself be further splitted into a training and a validation part (the validation part is then used to fix the hyper-parameters of the system).\n",
        "\n",
        "When performing ```batch gradient descent``` the whole training set is used to compute the gradients (which itself is used for the parameter optimization). \n",
        "However when performing ```stochastic or mini-batch gradient descent``` only a part of the training data is used at each iteration.\n",
        "\n",
        "We therefore needs to write all the necessary code, to get these mini-batches of data, be sure that all data have been seen, potentially randomize the order of appearance of these data and potentially perform some modifications of the data before giving them to the network.\n",
        "\n",
        "Fortunatelly, pytorch has associated to it (but not included in it) a nice package (```torchvision```) which allows to do all that for us.\n",
        "\n",
        "This package allows to perform these process for any datasets but has a pre-tuned method for the ```MNIST```datasets.\n",
        "\n",
        "### Datasets\n",
        "\n",
        "In the following we will us ```datasets.MNIST``` to load the train and test data.\n",
        "\n",
        "We need to tell it to download the data, where to dowload them and if we want the training or the testing part of it.\n",
        "\n",
        "We then tell it if we want to apply some transformations to the data.\n",
        "\n",
        "For this lab, we will transform the data by\n",
        "- 1) transforming them to torch tensors (using ```transforms.ToTensor()```); since by default they are not torch tensors\n",
        "- 2) normalize them to zero mean and unit standard deviation (using ```transforms.Normalize()```).\n",
        "\n",
        "It is of course possible to also apply data augmentation.\n",
        "\n",
        "Since we have several transforms to be performed, we will compose them using ```transforms.Compose([transform1, transform2])```\n",
        "\n",
        "The corresponding datasets is a class which contains the pairs of [input tensors $X$, corresponding ground-truth label $y$].\n",
        "\n",
        "### Dataloader\n",
        "\n",
        "Another nice pytorch facility is the ```Dataloader``` which transforms the dataset to be used as an iterator (i.e. within ```for data in myDataloader: ```).\n",
        "\n",
        "Moreover, ```Dataloader``` allows to specify \n",
        "- how many data will be provided each time it is called (```batch_size```)\n",
        "- if the order of appearance of the data with be random (````shuffle````).\n",
        "\n",
        "We therefore convert our datasets (train and test) to ```DataLoader``` that are directly used as iterator during the iterations (it DataLoader manage directly the mini-batch and shuffling)."
      ]
    },
    {
      "cell_type": "code",
      "execution_count": null,
      "metadata": {
        "colab": {
          "base_uri": "https://localhost:8080/"
        },
        "id": "zsSEvakPyZCv",
        "outputId": "6d38bbea-3ab8-40f1-eb92-da1048c9f18d"
      },
      "outputs": [
        {
          "name": "stdout",
          "output_type": "stream",
          "text": [
            "Downloading http://yann.lecun.com/exdb/mnist/train-images-idx3-ubyte.gz\n",
            "Downloading http://yann.lecun.com/exdb/mnist/train-images-idx3-ubyte.gz to /content/MNIST/raw/train-images-idx3-ubyte.gz\n"
          ]
        },
        {
          "name": "stderr",
          "output_type": "stream",
          "text": [
            "100%|██████████| 9912422/9912422 [00:00<00:00, 373144060.71it/s]"
          ]
        },
        {
          "name": "stdout",
          "output_type": "stream",
          "text": [
            "Extracting /content/MNIST/raw/train-images-idx3-ubyte.gz to /content/MNIST/raw\n"
          ]
        },
        {
          "name": "stderr",
          "output_type": "stream",
          "text": [
            "\n"
          ]
        },
        {
          "name": "stdout",
          "output_type": "stream",
          "text": [
            "\n",
            "Downloading http://yann.lecun.com/exdb/mnist/train-labels-idx1-ubyte.gz\n",
            "Downloading http://yann.lecun.com/exdb/mnist/train-labels-idx1-ubyte.gz to /content/MNIST/raw/train-labels-idx1-ubyte.gz\n"
          ]
        },
        {
          "name": "stderr",
          "output_type": "stream",
          "text": [
            "100%|██████████| 28881/28881 [00:00<00:00, 95307390.89it/s]\n"
          ]
        },
        {
          "name": "stdout",
          "output_type": "stream",
          "text": [
            "Extracting /content/MNIST/raw/train-labels-idx1-ubyte.gz to /content/MNIST/raw\n",
            "\n",
            "Downloading http://yann.lecun.com/exdb/mnist/t10k-images-idx3-ubyte.gz\n",
            "Downloading http://yann.lecun.com/exdb/mnist/t10k-images-idx3-ubyte.gz to /content/MNIST/raw/t10k-images-idx3-ubyte.gz\n"
          ]
        },
        {
          "name": "stderr",
          "output_type": "stream",
          "text": [
            "100%|██████████| 1648877/1648877 [00:00<00:00, 118184001.45it/s]"
          ]
        },
        {
          "name": "stdout",
          "output_type": "stream",
          "text": [
            "Extracting /content/MNIST/raw/t10k-images-idx3-ubyte.gz to /content/MNIST/raw\n",
            "\n",
            "Downloading http://yann.lecun.com/exdb/mnist/t10k-labels-idx1-ubyte.gz\n",
            "Downloading http://yann.lecun.com/exdb/mnist/t10k-labels-idx1-ubyte.gz to /content/MNIST/raw/t10k-labels-idx1-ubyte.gz\n"
          ]
        },
        {
          "name": "stderr",
          "output_type": "stream",
          "text": [
            "\n",
            "100%|██████████| 4542/4542 [00:00<00:00, 21998301.12it/s]\n"
          ]
        },
        {
          "name": "stdout",
          "output_type": "stream",
          "text": [
            "Extracting /content/MNIST/raw/t10k-labels-idx1-ubyte.gz to /content/MNIST/raw\n",
            "\n"
          ]
        }
      ],
      "source": [
        "# --- START CODE HERE\n",
        "batch_size = 64\n",
        "train_set = datasets.MNIST(root='/content', train=True, transform=transforms.Compose([transforms.ToTensor(), transforms.Normalize(0, 1)]), download=True)\n",
        "train_loader = torch.utils.data.DataLoader(train_set, batch_size=batch_size, shuffle=True)\n",
        "\n",
        "test_set =  datasets.MNIST(root='/content', train=False, transform=transforms.Compose([transforms.ToTensor(), transforms.Normalize(0, 1)]), download=True)\n",
        "test_loader = torch.utils.data.DataLoader(test_set, batch_size=batch_size, shuffle=True)\n",
        "# --- END CODE HERE"
      ]
    },
    {
      "cell_type": "code",
      "execution_count": null,
      "metadata": {
        "colab": {
          "base_uri": "https://localhost:8080/"
        },
        "id": "FFuEXr0tyZCw",
        "outputId": "2a0d57cc-0aeb-470c-ccf8-30bdaee683f4"
      },
      "outputs": [
        {
          "name": "stdout",
          "output_type": "stream",
          "text": [
            "dataset type: <class 'torchvision.datasets.mnist.MNIST'>\n",
            "dataset size: 60000\n",
            "X data: torch.Size([1, 28, 28])\n",
            "y data: 5\n"
          ]
        }
      ],
      "source": [
        "print(\"dataset type: {}\".format(type(train_set)))\n",
        "print(\"dataset size: {}\".format(len(train_set)))\n",
        "print(\"X data: {}\".format(train_set[0][0].size()))\n",
        "print(\"y data: {}\".format(train_set[0][1]))"
      ]
    },
    {
      "cell_type": "markdown",
      "metadata": {
        "id": "piAf25dxyZCx"
      },
      "source": [
        "### Display the first 5 data of MNIST dataset."
      ]
    },
    {
      "cell_type": "code",
      "execution_count": null,
      "metadata": {
        "colab": {
          "base_uri": "https://localhost:8080/",
          "height": 168
        },
        "id": "Jsa2MAEhyZCx",
        "outputId": "1b02f7e8-745d-4bf3-dab3-4ae1a21c78aa"
      },
      "outputs": [
        {
          "data": {
            "image/png": "[encoded data removed]",
            "text/plain": [
              "<Figure size 640x480 with 5 Axes>"
            ]
          },
          "metadata": {},
          "output_type": "display_data"
        }
      ],
      "source": [
        "# ------------------------------------\n",
        "for num in range(0,5):\n",
        "    one_data = next(iter(train_loader))\n",
        "    plt.subplot(1,5,num+1)\n",
        "    plt.imshow(one_data[0][0][0,:,:])\n",
        "    plt.title(one_data[1][0].item())"
      ]
    },
    {
      "cell_type": "markdown",
      "metadata": {
        "id": "bo6-KX8UyZCy"
      },
      "source": [
        "## Network setting\n",
        "\n",
        "While image classification, is usually performed using Convolutional Neural Networks, we will use here a Multi-Layer-Perceptron (also named ```fully-connected```).\n",
        "For this, we will flatten (i.e. convert the iamge 2D matrix to a 1D vector) the input images.\n",
        "\n",
        "- The input images are of size 28*28 and are converted to vectors of size ```n_in```=784. \n",
        "\n",
        "- The two hidden layers have````n_h1````=500 and ```n_h2```=256 unit/neurons each and ```Relu```activations.\n",
        "\n",
        "- The output are the ```n_out```=10 classes (the 10 digits to be recognized). \n",
        "\n",
        "Since we deal with a muti-class problem (10 classes), the output activations is therefore a ```softmax```.\n",
        "\n",
        "Note that since the ```softmax```output will be given to a ```cross-entropy```, the ```log```et the latter can be directly added to the ```softmax```. This leads to the pytorch function ```F.log_softmax```.\n"
      ]
    },
    {
      "cell_type": "code",
      "execution_count": null,
      "metadata": {
        "id": "H0uIIQb9yZCy"
      },
      "outputs": [],
      "source": [
        "class Net(nn.Module):\n",
        "    def __init__(self):\n",
        "        n_in = 28*28\n",
        "        n_h1 = 500\n",
        "        n_h2 = 256\n",
        "        n_out = 10\n",
        "        super(Net, self).__init__()\n",
        "        # --- START CODE HERE\n",
        "        self.fc1 = nn.Linear(n_in, n_h1)\n",
        "        self.fc2 = nn.Linear(n_h1, n_h2)\n",
        "        self.fc3 = nn.Linear(n_h2, n_out)\n",
        "        self.relu = nn.ReLU()\n",
        "        # --- END CODE HERE\n",
        "    def forward(self, x):\n",
        "        # --- START CODE HERE\n",
        "        x = x.view(-1, 28*28)\n",
        "        x = self.fc1(x)\n",
        "        x = self.relu(x)\n",
        "        x = self.fc2(x)\n",
        "        x = self.relu(x)\n",
        "        x = self.fc3(x)\n",
        "        # --- END CODE HERE\n",
        "        return F.log_softmax(x, dim=1)"
      ]
    },
    {
      "cell_type": "markdown",
      "metadata": {
        "id": "x7qcgKFwyZCz"
      },
      "source": [
        "## Defining the train and test functions\n",
        "\n",
        "In the present lab, we distinguish between train and test data. \n",
        "We therefore write\n",
        "- a train function (to learn the network parameters on the train data),\n",
        "- a test function (to evaluate the network's performances on the test data).\n",
        "\n",
        "The ```train``` and ```test```function will perform the computation for a given ```epoch```.\n",
        "The functions therefore only need to ```loop over``` the mini-batches.\n",
        "This is now easy since we defined our ```Dataloader```for train and test.\n",
        "\n",
        "For the train function, for each mini-batch, we  \n",
        "- compute the forward pass by passing the data to the model: haty = model(x)\n",
        "- compute the the loss (the criterion)\n",
        "- putting at zero the gradients of all the parameters of the network (this is important since, by default, pytorch accumulate the gradients over time)\n",
        "- computing the backpropagation (using as before .backward())\n",
        "- performing one step of optimization (using .step())\n",
        "\n",
        "For the train function, we set the model to train mode (```model.train()```). This allows to set some specific behaviours for training (such as activate the dropout).\n",
        "\n",
        "For the test function, we set the model to train mode (```model.eval()```). This allows to set some specific behaviours for training (such as removing the dropout).\n",
        "\n",
        "\n",
        "Since we are dealing with a multi-class problem (10 classes), we will minimize as loss the ```cross-entropy``` (named negative-log-likelihood ```nll_loss```in pytorch).\n",
        "Since ```nll_loss```does not contains the ```log``` we have added it directly to the softmax by using the ```log_softmax```as output activation of our network.\n",
        "\n",
        "Note that we could use the loss from the nn package (```torch.nn.NLLLoss```) it is then a class which needs to be first instanciated. \n",
        "We can also use the same but as a function (```F.nll_loss()```) which can be used directly without instanciating the class."
      ]
    },
    {
      "cell_type": "code",
      "execution_count": null,
      "metadata": {
        "colab": {
          "base_uri": "https://localhost:8080/"
        },
        "id": "OJbcuWoEBYDY",
        "outputId": "bb5ebd02-57ea-4451-e83f-d7151fa082b5"
      },
      "outputs": [
        {
          "name": "stdout",
          "output_type": "stream",
          "text": [
            "tensor([3, 2, 8, 4, 0, 4, 2, 9, 8, 7, 7, 7, 6, 2, 7, 8, 8, 5, 5, 6, 2, 6, 8, 7,\n",
            "        9, 2, 2, 5, 9, 7, 5, 4, 8, 9, 1, 1, 7, 3, 7, 8, 8, 6, 1, 8, 6, 1, 0, 2,\n",
            "        3, 9, 0, 4, 7, 4, 1, 1, 9, 3, 1, 7, 1, 8, 9, 3])\n"
          ]
        }
      ],
      "source": [
        "for batch_idx, (data, target) in enumerate(train_loader):\n",
        "  print(target)\n",
        "  break"
      ]
    },
    {
      "cell_type": "code",
      "execution_count": null,
      "metadata": {
        "id": "3dGuPt96yZCz"
      },
      "outputs": [],
      "source": [
        "def train(model, train_loader, optimizer, epoch):\n",
        "    model.train()\n",
        "    for batch_idx, (data, target) in enumerate(train_loader):\n",
        "        # --- START CODE HERE\n",
        "        optimizer.zero_grad()\n",
        "        hat_y = model(data)\n",
        "        loss = nn.NLLLoss()(hat_y, target)\n",
        "        loss.backward()\n",
        "        optimizer.step()\n",
        "        # --- END CODE HERE\n",
        "        \n",
        "        if batch_idx % 100 == 0:\n",
        "            print('epoch {}, loss {}'.format(epoch, loss.item()))"
      ]
    },
    {
      "cell_type": "code",
      "execution_count": null,
      "metadata": {
        "id": "zI8QtzV2yZC0"
      },
      "outputs": [],
      "source": [
        "def test(model, test_loader):\n",
        "    model.eval()\n",
        "    test_loss = 0\n",
        "    correct = 0\n",
        "    with torch.no_grad():\n",
        "        for data, target in test_loader:\n",
        "            # --- START CODE HERE\n",
        "            hat_y = model(data)\n",
        "            test_loss += nn.NLLLoss()(hat_y, target)\n",
        "            y_pred = torch.argmax(hat_y, dim=1)\n",
        "            correct += (y_pred == target).sum().item()\n",
        "            # --- STOP CODE HERE\n",
        "        \n",
        "    test_loss /= len(test_loader.dataset)\n",
        "    correct /= len(test_loader.dataset)\n",
        "    print('\\nTest set: Average loss: {}, Accuracy: {}\\n'.format(test_loss, correct))"
      ]
    },
    {
      "cell_type": "markdown",
      "metadata": {
        "id": "9MXQIbcJyZC0"
      },
      "source": [
        "## Looping over epochs\n",
        "\n",
        "\n",
        "We finally define, how we will optimize our parameters by defining an optimizer.\n",
        "We will use here a very simple one: the SGD (```optim.SGD```) with a learning rate of 0.01.\n",
        "\n",
        "At each iteration, we then call the train and the test function."
      ]
    },
    {
      "cell_type": "code",
      "execution_count": null,
      "metadata": {
        "colab": {
          "background_save": true,
          "base_uri": "https://localhost:8080/"
        },
        "id": "ofYcX05ZyZC0",
        "outputId": "6f99dead-d9b4-42c4-d521-b98be9f6547c"
      },
      "outputs": [
        {
          "name": "stdout",
          "output_type": "stream",
          "text": [
            "epoch 1, loss 2.306540012359619\n",
            "epoch 1, loss 0.6930635571479797\n",
            "epoch 1, loss 0.6142582893371582\n",
            "epoch 1, loss 0.31852707266807556\n",
            "epoch 1, loss 0.4278165102005005\n",
            "epoch 1, loss 0.2818628251552582\n",
            "epoch 1, loss 0.2028333991765976\n",
            "epoch 1, loss 0.3722947835922241\n",
            "epoch 1, loss 0.3034781217575073\n",
            "epoch 1, loss 0.2165016084909439\n",
            "\n",
            "Test set: Average loss: 0.0035097592044621706, Accuracy: 0.933\n",
            "\n",
            "epoch 2, loss 0.16013267636299133\n",
            "epoch 2, loss 0.319445937871933\n",
            "epoch 2, loss 0.22090180218219757\n",
            "epoch 2, loss 0.1640147566795349\n",
            "epoch 2, loss 0.15926678478717804\n",
            "epoch 2, loss 0.21099552512168884\n",
            "epoch 2, loss 0.20962132513523102\n",
            "epoch 2, loss 0.5340019464492798\n",
            "epoch 2, loss 0.14031881093978882\n",
            "epoch 2, loss 0.06600994616746902\n",
            "\n",
            "Test set: Average loss: 0.002129955915734172, Accuracy: 0.9595\n",
            "\n",
            "epoch 3, loss 0.21791046857833862\n",
            "epoch 3, loss 0.20242656767368317\n",
            "epoch 3, loss 0.11089246720075607\n",
            "epoch 3, loss 0.15949591994285583\n",
            "epoch 3, loss 0.057895321398973465\n",
            "epoch 3, loss 0.05940252169966698\n",
            "epoch 3, loss 0.059992704540491104\n",
            "epoch 3, loss 0.06938891112804413\n",
            "epoch 3, loss 0.12977278232574463\n",
            "epoch 3, loss 0.20705972611904144\n",
            "\n",
            "Test set: Average loss: 0.001585430814884603, Accuracy: 0.9689\n",
            "\n",
            "epoch 4, loss 0.20412521064281464\n",
            "epoch 4, loss 0.1556835174560547\n",
            "epoch 4, loss 0.15677078068256378\n",
            "epoch 4, loss 0.2696075141429901\n",
            "epoch 4, loss 0.1573318988084793\n",
            "epoch 4, loss 0.03619563579559326\n",
            "epoch 4, loss 0.13870342075824738\n",
            "epoch 4, loss 0.10815443098545074\n",
            "epoch 4, loss 0.06909608095884323\n",
            "epoch 4, loss 0.0411965548992157\n",
            "\n",
            "Test set: Average loss: 0.0012777878437191248, Accuracy: 0.9749\n",
            "\n",
            "epoch 5, loss 0.07280343025922775\n",
            "epoch 5, loss 0.06901857256889343\n",
            "epoch 5, loss 0.055822066962718964\n",
            "epoch 5, loss 0.06331243366003036\n",
            "epoch 5, loss 0.08172059804201126\n",
            "epoch 5, loss 0.03534530848264694\n",
            "epoch 5, loss 0.017907921224832535\n",
            "epoch 5, loss 0.06538208574056625\n",
            "epoch 5, loss 0.09851707518100739\n",
            "epoch 5, loss 0.01648682728409767\n",
            "\n",
            "Test set: Average loss: 0.0012435771059244871, Accuracy: 0.9753\n",
            "\n",
            "epoch 6, loss 0.05134138837456703\n",
            "epoch 6, loss 0.12743066251277924\n",
            "epoch 6, loss 0.005084346514195204\n",
            "epoch 6, loss 0.020563768222928047\n",
            "epoch 6, loss 0.056812405586242676\n",
            "epoch 6, loss 0.025176217779517174\n",
            "epoch 6, loss 0.009039587341248989\n",
            "epoch 6, loss 0.055312998592853546\n",
            "epoch 6, loss 0.013843193650245667\n",
            "epoch 6, loss 0.06429803371429443\n",
            "\n",
            "Test set: Average loss: 0.0011260815663263202, Accuracy: 0.9764\n",
            "\n",
            "epoch 7, loss 0.013050883077085018\n",
            "epoch 7, loss 0.019932400435209274\n",
            "epoch 7, loss 0.011647858656942844\n",
            "epoch 7, loss 0.014881361275911331\n",
            "epoch 7, loss 0.05175263062119484\n",
            "epoch 7, loss 0.005730234086513519\n",
            "epoch 7, loss 0.025991637259721756\n",
            "epoch 7, loss 0.06147772818803787\n",
            "epoch 7, loss 0.13341115415096283\n",
            "epoch 7, loss 0.0173676498234272\n",
            "\n",
            "Test set: Average loss: 0.0010536668123677373, Accuracy: 0.9777\n",
            "\n",
            "epoch 8, loss 0.0860334113240242\n",
            "epoch 8, loss 0.029782891273498535\n",
            "epoch 8, loss 0.029844922944903374\n",
            "epoch 8, loss 0.006034418940544128\n",
            "epoch 8, loss 0.088656485080719\n",
            "epoch 8, loss 0.021385129541158676\n",
            "epoch 8, loss 0.03250883147120476\n",
            "epoch 8, loss 0.022262075915932655\n",
            "epoch 8, loss 0.016131645068526268\n",
            "epoch 8, loss 0.012154501862823963\n",
            "\n",
            "Test set: Average loss: 0.0009652274311520159, Accuracy: 0.9802\n",
            "\n",
            "epoch 9, loss 0.08748878538608551\n",
            "epoch 9, loss 0.011430153623223305\n",
            "epoch 9, loss 0.026597119867801666\n",
            "epoch 9, loss 0.02348223887383938\n",
            "epoch 9, loss 0.006265722215175629\n",
            "epoch 9, loss 0.017650656402111053\n",
            "epoch 9, loss 0.017310261726379395\n",
            "epoch 9, loss 0.009767457842826843\n",
            "epoch 9, loss 0.04930944740772247\n",
            "epoch 9, loss 0.01751423254609108\n",
            "\n",
            "Test set: Average loss: 0.0009644149104133248, Accuracy: 0.9807\n",
            "\n",
            "epoch 10, loss 0.010756085626780987\n",
            "epoch 10, loss 0.08806199580430984\n",
            "epoch 10, loss 0.060041896998882294\n",
            "epoch 10, loss 0.0066503011621534824\n",
            "epoch 10, loss 0.11538398265838623\n",
            "epoch 10, loss 0.013115394860506058\n",
            "epoch 10, loss 0.017488066107034683\n",
            "epoch 10, loss 0.013586554676294327\n",
            "epoch 10, loss 0.014509139582514763\n",
            "epoch 10, loss 0.10849074274301529\n",
            "\n",
            "Test set: Average loss: 0.0010201146360486746, Accuracy: 0.9799\n",
            "\n"
          ]
        }
      ],
      "source": [
        "model = Net()\n",
        "optimizer = optim.SGD(model.parameters(), lr=0.01, momentum=0.9)\n",
        "nb_epoch = 10\n",
        "for epoch in range(1, nb_epoch + 1):\n",
        "        # --- START CODE HERE\n",
        "        train(model, train_loader, optimizer, epoch)\n",
        "        test(model, test_loader)\n",
        "        # --- END CODE HERE"
      ]
    },
    {
      "cell_type": "code",
      "execution_count": null,
      "metadata": {
        "id": "Rmga0J_oyZC1"
      },
      "outputs": [],
      "source": []
    }
  ],
  "metadata": {
    "colab": {
      "provenance": []
    },
    "kernelspec": {
      "display_name": "Python 3",
      "language": "python",
      "name": "python3"
    },
    "language_info": {
      "codemirror_mode": {
        "name": "ipython",
        "version": 3
      },
      "file_extension": ".py",
      "mimetype": "text/x-python",
      "name": "python",
      "nbconvert_exporter": "python",
      "pygments_lexer": "ipython3",
      "version": "3.8.5"
    },
    "toc": {
      "base_numbering": 1,
      "nav_menu": {},
      "number_sections": true,
      "sideBar": true,
      "skip_h1_title": false,
      "title_cell": "Table of Contents",
      "title_sidebar": "Contents",
      "toc_cell": false,
      "toc_position": {
        "height": "calc(100% - 180px)",
        "left": "10px",
        "top": "150px",
        "width": "165px"
      },
      "toc_section_display": true,
      "toc_window_display": false
    }
  },
  "nbformat": 4,
  "nbformat_minor": 0
}